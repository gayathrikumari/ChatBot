{
  "nbformat": 4,
  "nbformat_minor": 0,
  "metadata": {
    "colab": {
      "name": "ChatBot.ipynb",
      "provenance": [],
      "collapsed_sections": []
    },
    "kernelspec": {
      "name": "python3",
      "display_name": "Python 3"
    }
  },
  "cells": [
    {
      "cell_type": "code",
      "metadata": {
        "id": "-nZ4B5L6wUWO",
        "colab_type": "code",
        "colab": {}
      },
      "source": [
        "import nltk\n",
        "import numpy as np\n",
        "import random\n",
        "import string"
      ],
      "execution_count": 20,
      "outputs": []
    },
    {
      "cell_type": "code",
      "metadata": {
        "id": "wpJBlG-KAo9E",
        "colab_type": "code",
        "colab": {}
      },
      "source": [
        "f=open('chatbot_.txt','r',errors='ignore')\n",
        "raw=f.read()\n",
        "raw=raw.lower()\n",
        "nltk.download('punkt')\n",
        "nltk.download('wordnet')\n",
        "sent_tokens=nltk.sent_tokenize(raw)\n",
        "word_tokens=nltk.word_tokenize(raw)\n"
      ],
      "execution_count": 31,
      "outputs": []
    },
    {
      "cell_type": "code",
      "metadata": {
        "id": "myhIoR4vF7XO",
        "colab_type": "code",
        "colab": {}
      },
      "source": [
        "lemmer=nltk.stem.WordNetLemmatizer()\n",
        "def LemTokens(tokens):\n",
        "  return[lemmer.lemmatize(token) for token in tokens]\n",
        "remove_punct_dict=dict((ord(punct),None) for punct in string.punctuation)\n",
        "def LemNormalize(text):\n",
        "  return LemTokens(nltk.word_tokenize(text.lower().translate(remove_punct_dict)))"
      ],
      "execution_count": 23,
      "outputs": []
    },
    {
      "cell_type": "code",
      "metadata": {
        "id": "NzyBonGGHFyj",
        "colab_type": "code",
        "colab": {}
      },
      "source": [
        "GREETING_INPUTS=(\"hello\",\"hi\",\"greetings\",\"sup\",\"what's up\",\"hey\")\n",
        "GREETING_RESPONSES=[\"Hi\",\"Hey There!\",\"*nods*\",\"I'm glad You're talking to me\",\"Hey Hey\"]\n",
        "def greeting (sentence):\n",
        "  for word in sentence.split():\n",
        "    if word.lower() in GREETING_INPUTS:\n",
        "      return random.choice(GREETING_RESPONSES)\n",
        "      "
      ],
      "execution_count": 24,
      "outputs": []
    },
    {
      "cell_type": "code",
      "metadata": {
        "id": "F2KlGr34IvS8",
        "colab_type": "code",
        "colab": {}
      },
      "source": [
        "from sklearn.feature_extraction.text import TfidfVectorizer\n",
        "\n",
        "from sklearn.metrics.pairwise import cosine_similarity\n",
        "\n"
      ],
      "execution_count": 25,
      "outputs": []
    },
    {
      "cell_type": "code",
      "metadata": {
        "id": "7RGyHD5cJBGd",
        "colab_type": "code",
        "colab": {}
      },
      "source": [
        "def response(user_response):\n",
        "  robo_response=''\n",
        "  sent_tokens.append(user_response)\n",
        "  TfidfVec = TfidfVectorizer(tokenizer=LemNormalize,stop_words='english')\n",
        "  tfidf = TfidfVec.fit_transform(sent_tokens)\n",
        "  vals=cosine_similarity(tfidf[-1],tfidf)\n",
        "  idx=vals.argsort()[0][-2]\n",
        "  flat=vals.flatten()\n",
        "  flat.sort()\n",
        "  req_tfidf=flat[-2]\n",
        "  if(req_tfidf==0):\n",
        "    robo_response=robo_response+\"I am sorry !! I didn't understand you\"\n",
        "    return robo_response\n",
        "  else:\n",
        "    robo_response=robo_response+sent_tokens[idx]\n",
        "    return robo_response\n",
        "    \n",
        "\n"
      ],
      "execution_count": 26,
      "outputs": []
    },
    {
      "cell_type": "code",
      "metadata": {
        "id": "nkfOSTQYLKyd",
        "colab_type": "code",
        "colab": {}
      },
      "source": [
        "flag=True\n",
        "print('ChatBot: My Name is GBot')\n",
        "while (flag==True):\n",
        "  user_response=input()\n",
        "  user_response=user_response.lower()\n",
        "  if(user_response != 'bye'):\n",
        "    if(user_response=='thanks' or user_response=='thank you'):\n",
        "      flag=False\n",
        "      print(\"GBot : You're Welcome\")\n",
        "    else:\n",
        "      if(greeting(user_response)!=None):\n",
        "        print(\"GBot \"+ greeting(user_response))\n",
        "      else:\n",
        "        print(\"GBot : \",end='')\n",
        "        print(response(user_response))\n",
        "        sent_tokens.remove(user_response)\n",
        "  else:\n",
        "      flag=False\n",
        "      print(\"GBot : Thanks for talking !! Bye Bye !!\")\n"
      ],
      "execution_count": 29,
      "outputs": []
    },
    {
      "cell_type": "code",
      "metadata": {
        "id": "saLN8ItrNNGI",
        "colab_type": "code",
        "colab": {}
      },
      "source": [
        ""
      ],
      "execution_count": null,
      "outputs": []
    }
  ]
}